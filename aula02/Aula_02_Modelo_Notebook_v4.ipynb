{
  "nbformat": 4,
  "nbformat_minor": 0,
  "metadata": {
    "colab": {
      "provenance": []
    },
    "kernelspec": {
      "name": "python3",
      "display_name": "Python 3"
    },
    "language_info": {
      "name": "python"
    }
  },
  "cells": [
    {
      "cell_type": "markdown",
      "source": [
        "Importação das bibliotecas e/ou módulos (packages ou pacotes) necessários."
      ],
      "metadata": {
        "id": "8mefUfPB6Hp6"
      }
    },
    {
      "cell_type": "code",
      "execution_count": null,
      "metadata": {
        "id": "7Og2mGx6xVZS"
      },
      "outputs": [],
      "source": [
        "# Importar as bibliotecas necessárias\n",
        "import pandas as pd\n",
        "# https://pandas.pydata.org/\n",
        "\n",
        "# Conversão de dados categóricos em numéricos\n",
        "from sklearn.preprocessing import LabelEncoder\n",
        "# https://scikit-learn.org/stable/modules/preprocessing.html\n",
        "\n",
        "# Algoritmos de classificação\n",
        "# KNN (K-Nearest Neighbors)\n",
        "from sklearn.neighbors import KNeighborsClassifier\n",
        "# https://scikit-learn.org/stable/modules/generated/sklearn.neighbors.KNeighborsClassifier.html\n",
        "\n",
        "# Decision Tree\n",
        "from sklearn.tree import DecisionTreeClassifier\n",
        "# https://scikit-learn.org/stable/modules/generated/sklearn.tree.DecisionTreeClassifier.html\n",
        "\n",
        "# Seleção de dados de treino e teste\n",
        "from sklearn.model_selection import train_test_split\n",
        "# https://scikit-learn.org/stable/modules/generated/sklearn.model_selection.train_test_split.html\n",
        "\n",
        "# Obtenção da acurácia do modelo\n",
        "from sklearn.metrics import accuracy_score\n",
        "# https://scikit-learn.org/stable/modules/generated/sklearn.metrics.accuracy_score.html"
      ]
    },
    {
      "cell_type": "markdown",
      "source": [
        "Importação dos dados\n",
        "\n",
        "https://www.kaggle.com/datasets/shivam2503/diamonds"
      ],
      "metadata": {
        "id": "lTIB4NnP6NUm"
      }
    },
    {
      "cell_type": "code",
      "source": [
        "# Criar um Pandas Data Frame a partir do arquivo de dados csv\n",
        "dados = pd.read_csv('/content/diamonds.csv')\n",
        "dados"
      ],
      "metadata": {
        "id": "1YKd1Lo15OrZ"
      },
      "execution_count": null,
      "outputs": []
    },
    {
      "cell_type": "markdown",
      "source": [
        "Análise Exploratória"
      ],
      "metadata": {
        "id": "Tgz6nAh86P5_"
      }
    },
    {
      "cell_type": "code",
      "source": [
        "# Quantos registros (linhas) e quantos atributos (colunas) tem o Data Frame?\n",
        "dados.shape\n",
        "print(f'O conjunto de dados tem {dados.shape[0]} linhas e {dados.shape[1]} colunas.')"
      ],
      "metadata": {
        "id": "-kp484uM5zCW"
      },
      "execution_count": null,
      "outputs": []
    },
    {
      "cell_type": "code",
      "source": [
        "# Visualizar as primeiras linhas\n",
        "dados.head()"
      ],
      "metadata": {
        "id": "B4hs8Uh75X64"
      },
      "execution_count": null,
      "outputs": []
    },
    {
      "cell_type": "code",
      "source": [
        "# Visualizar as últimas linhas\n",
        "dados.tail()"
      ],
      "metadata": {
        "id": "A1Nnx7yJ5zGi"
      },
      "execution_count": null,
      "outputs": []
    },
    {
      "cell_type": "code",
      "source": [
        "# Nomes das colunas\n",
        "dados.columns"
      ],
      "metadata": {
        "id": "Qv6IuVdG62Va"
      },
      "execution_count": null,
      "outputs": []
    },
    {
      "cell_type": "code",
      "source": [
        "# Informações do formato de dados das colunas\n",
        "dados.info()"
      ],
      "metadata": {
        "id": "Ikf5E-2Z5y7K"
      },
      "execution_count": null,
      "outputs": []
    },
    {
      "cell_type": "code",
      "source": [
        "# Estatísticas descritivas das colunas numéricas\n",
        "dados.describe()"
      ],
      "metadata": {
        "id": "hEz5YzNl5y_k"
      },
      "execution_count": null,
      "outputs": []
    },
    {
      "cell_type": "code",
      "source": [
        "# Estatísticas descritivas das colunas não numéricas\n",
        "dados.describe(include='object')"
      ],
      "metadata": {
        "id": "h2yW0Q3PE7na"
      },
      "execution_count": null,
      "outputs": []
    },
    {
      "cell_type": "code",
      "source": [
        "# Seleção dos dados de uma coluna (formato Series)\n",
        "preco_series = dados['price']\n",
        "preco_series"
      ],
      "metadata": {
        "id": "BzGqUPYG5yoV"
      },
      "execution_count": null,
      "outputs": []
    },
    {
      "cell_type": "code",
      "source": [
        "# Seleção dos dados de uma coluna (formato Data Frame)\n",
        "preco_df = dados[['price']]\n",
        "preco_df"
      ],
      "metadata": {
        "id": "0cANLnTu7AJ8"
      },
      "execution_count": null,
      "outputs": []
    },
    {
      "cell_type": "code",
      "source": [
        "type(preco_df)"
      ],
      "metadata": {
        "id": "QE8xtQFRXLZ-"
      },
      "execution_count": null,
      "outputs": []
    },
    {
      "cell_type": "code",
      "source": [
        "# Cálculo de média aritmética dos valores de uma coluna\n",
        "media_aritm = dados['price'].mean().round(4)\n",
        "media_aritm"
      ],
      "metadata": {
        "id": "UaUqKDNN7JLa"
      },
      "execution_count": null,
      "outputs": []
    },
    {
      "cell_type": "code",
      "source": [
        "# Cálculo de mediana dos valores de uma coluna\n",
        "mediana = dados['price'].median().round(4)\n",
        "mediana"
      ],
      "metadata": {
        "id": "PIohVCov7QOQ"
      },
      "execution_count": null,
      "outputs": []
    },
    {
      "cell_type": "code",
      "source": [
        "# Cálculo do desvio padrão dos valores de uma coluna\n",
        "desvio_padrao = dados['price'].std().round(4)\n",
        "desvio_padrao"
      ],
      "metadata": {
        "id": "bwc2Ksep7QCP"
      },
      "execution_count": null,
      "outputs": []
    },
    {
      "cell_type": "markdown",
      "source": [
        "Pré Processamento"
      ],
      "metadata": {
        "id": "n5Dw0O9H8vTN"
      }
    },
    {
      "cell_type": "code",
      "source": [
        "dados.head()"
      ],
      "metadata": {
        "id": "hcT-4ZQRd2Xt"
      },
      "execution_count": null,
      "outputs": []
    },
    {
      "cell_type": "code",
      "source": [
        "# Exclusão de uma coluna usando o método .drop\n",
        "# axis = 0 ----> linha\n",
        "# axis = 1 ----> coluna\n",
        "dados = dados.drop('Unnamed: 0', axis=1)\n",
        "dados"
      ],
      "metadata": {
        "id": "tgJ5XhxC7DRu"
      },
      "execution_count": null,
      "outputs": []
    },
    {
      "cell_type": "code",
      "source": [
        "# Conversão dos dados de uma coluna em um Array Numpy (Vetor)\n",
        "vetor_numpy = dados['price'].values\n",
        "vetor_numpy"
      ],
      "metadata": {
        "id": "57LirAKuDJWK"
      },
      "execution_count": null,
      "outputs": []
    },
    {
      "cell_type": "code",
      "source": [
        "# Conversão de uma coluna de valores categóricos para numéricos\n",
        "# Label Encoding\n",
        "le = LabelEncoder()"
      ],
      "metadata": {
        "id": "uwsa_ZCT8dlw"
      },
      "execution_count": null,
      "outputs": []
    },
    {
      "cell_type": "code",
      "source": [
        "dados['cut'].values"
      ],
      "metadata": {
        "id": "8Jtkt1Lff8xo"
      },
      "execution_count": null,
      "outputs": []
    },
    {
      "cell_type": "code",
      "source": [
        "dados['cut'] = le.fit_transform(dados['cut'])"
      ],
      "metadata": {
        "id": "ohgCcX3KfpGv"
      },
      "execution_count": null,
      "outputs": []
    },
    {
      "cell_type": "code",
      "source": [
        "dados['cut'].values"
      ],
      "metadata": {
        "id": "XrKynatMgGVx"
      },
      "execution_count": null,
      "outputs": []
    },
    {
      "cell_type": "code",
      "source": [
        "dados.head()"
      ],
      "metadata": {
        "id": "mi0pgDgvgKtP"
      },
      "execution_count": null,
      "outputs": []
    },
    {
      "cell_type": "code",
      "source": [
        "# Separação dos dados de entrada e dados de saída\n",
        "# X maiúsculo ----> Dados de entrada / Features / Variáveis independentes\n",
        "# y minúsculo ----> Dados de saída / Target (alvo) / Variável dependente\n",
        "# dados.iloc[linhas, colunas]\n",
        "X = dados.iloc[:, 7:] # Todas as linhas e as colunas de 7 a 9.\n",
        "X.head()"
      ],
      "metadata": {
        "id": "qTh22gSS81fJ"
      },
      "execution_count": null,
      "outputs": []
    },
    {
      "cell_type": "code",
      "source": [
        "X.values"
      ],
      "metadata": {
        "id": "l0Zld85hjohE"
      },
      "execution_count": null,
      "outputs": []
    },
    {
      "cell_type": "markdown",
      "source": [
        "Separação em dados de treino e dados de teste\n",
        "\n",
        "A separação de dados em conjuntos de treinamento e teste é uma prática fundamental na construção e avaliação de modelos de aprendizado de máquina. A ideia principal é usar uma parte dos seus dados para treinar o modelo (conjunto de treinamento) e outra parte para avaliar o desempenho do modelo (conjunto de teste). A razão para fazer isso é avaliar a capacidade do modelo de generalizar para dados não vistos, ou seja, dados que não foram usados durante o treinamento.\n",
        "\n",
        "A função train_test_split é uma maneira conveniente de realizar essa separação. Ela trabalha com números randômicos por duas razões principais:\n",
        "\n",
        "Garantir Generalização: Quando você treina um modelo, você deseja que ele aprenda padrões presentes nos dados, em vez de simplesmente memorizar os exemplos de treinamento. Para testar a capacidade de generalização do modelo, você deve avaliá-lo em dados que ele nunca viu antes. A aleatoriedade na divisão ajuda a simular essa situação, garantindo que o modelo seja avaliado em dados diferentes dos utilizados no treinamento.\n",
        "\n",
        "Evitar Viés de Seleção: A aleatoriedade na divisão ajuda a evitar qualquer viés que possa estar presente nos seus dados. Se você não dividir seus dados de forma aleatória, pode haver uma tendência a selecionar exemplos mais fáceis ou mais difíceis para o treinamento ou teste, o que pode prejudicar a validade das avaliações do modelo.\n",
        "\n"
      ],
      "metadata": {
        "id": "149S7BBlG0-U"
      }
    },
    {
      "cell_type": "code",
      "source": [
        " # https://scikit-learn.org/stable/modules/generated/sklearn.model_selection.train_test_split.html\n"
      ],
      "metadata": {
        "id": "p9ClPm9F9Agt"
      },
      "execution_count": null,
      "outputs": []
    },
    {
      "cell_type": "markdown",
      "source": [
        "X: dados de entrada.\n",
        "\n",
        "y: dados de saída (rótulos / variável dependente).\n",
        "\n",
        "test_size: define a proporção dos dados que serão usados como conjunto de teste (geralmente entre 0.2 e 0.3).\n",
        "\n",
        "random_state: é uma \"semente\" (SEED) para o gerador de números randômicos. Fornece um valor específico (constante) garante que a divisão seja reprodutível, ou seja, você obterá a mesma divisão sempre que usar o mesmo valor."
      ],
      "metadata": {
        "id": "e3ENxXqMKSk8"
      }
    },
    {
      "cell_type": "markdown",
      "source": [
        "Escolha do algoritmo"
      ],
      "metadata": {
        "id": "6GzQpFR1Tagq"
      }
    },
    {
      "cell_type": "code",
      "source": [
        "# Instanciar o modelo\n"
      ],
      "metadata": {
        "id": "Px1vjwhjTeKQ"
      },
      "execution_count": null,
      "outputs": []
    },
    {
      "cell_type": "code",
      "source": [
        "# Treinar o modelo\n"
      ],
      "metadata": {
        "id": "1OjqBJMoU87s"
      },
      "execution_count": null,
      "outputs": []
    },
    {
      "cell_type": "code",
      "source": [
        "# Realizar as predições\n"
      ],
      "metadata": {
        "id": "a5l2uGe_vhOx"
      },
      "execution_count": null,
      "outputs": []
    },
    {
      "cell_type": "code",
      "source": [
        "# Calcular a acurácia do modelo\n"
      ],
      "metadata": {
        "id": "5NF1jUJSvlRk"
      },
      "execution_count": null,
      "outputs": []
    },
    {
      "cell_type": "markdown",
      "source": [
        "EXERCÍCIO: Treine um outro modelo usando o algoritmo Decision Tree e compare as métricas"
      ],
      "metadata": {
        "id": "0KdUecDvVVe1"
      }
    }
  ]
}